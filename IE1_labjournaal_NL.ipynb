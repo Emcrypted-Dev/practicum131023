{
 "cells": [
  {
   "cell_type": "markdown",
   "metadata": {},
   "source": [
    "# Algemeen\n",
    "\n",
    "Dit is het template voor het labjournaal. Je kunt gebruik maken van markdown cellen om alle informatie in te noteren. Hoe markdown werkt vind je hier: https://jupyter-notebook.readthedocs.io/en/stable/examples/Notebook/Working%20With%20Markdown%20Cells.html."
   ]
  },
  {
   "cell_type": "code",
   "execution_count": 84,
   "metadata": {
    "tags": [],
    "ExecuteTime": {
     "end_time": "2023-10-13T15:12:59.971889100Z",
     "start_time": "2023-10-13T15:12:59.815234Z"
    }
   },
   "outputs": [],
   "source": [
    "#importeren van de benodige libraries\n",
    "import matplotlib.pyplot as plt\n",
    "import numpy as np\n",
    "import math\n",
    "from scipy.optimize import curve_fit"
   ]
  },
  {
   "cell_type": "markdown",
   "metadata": {},
   "source": [
    "**Namen:** Thomas Bosch, Lennard Stelloo  "
   ]
  },
  {
   "cell_type": "markdown",
   "metadata": {},
   "source": [
    "**Titel van het experiment:**  Bepaling van ..."
   ]
  },
  {
   "cell_type": "markdown",
   "metadata": {},
   "source": [
    "**Startdatum:**  13 oktober 2023\n",
    "**Verwachte einddatum:**  13 oktober 2023\n"
   ]
  },
  {
   "cell_type": "markdown",
   "metadata": {},
   "source": [
    "**Doel van het experiment:**  \n",
    "\n",
    "In dit experiment bepalen we de relatie tussen de kracht tussen twee magneten als functie van hun onderlinge afstand. De gebruikte opstelling is hieronder getoond:\n",
    "<center>\n",
    "<img src = 'IE1_opstelling.jpg' width = \"200\" height=\"20\"></img>\n",
    "</center>\n",
    "Voor het berekenen van de hart-tot-hart afstand tussen de twee magneten wordt gebruik gemaakt van de volgende definities:\n",
    "<center>\n",
    "<img src = 'ie1_opst_onz.jpg' width =\"200\" height = \"20\"></img>\n",
    "</center>"
   ]
  },
  {
   "cell_type": "markdown",
   "metadata": {},
   "source": [
    "**Onderzoeksvragen:**  "
   ]
  },
  {
   "cell_type": "markdown",
   "metadata": {},
   "source": [
    "**Verwachte uitkomsten:**  "
   ]
  },
  {
   "cell_type": "markdown",
   "metadata": {},
   "source": [
    "**Gewenste nauwkeurigheid:**  "
   ]
  },
  {
   "cell_type": "markdown",
   "metadata": {},
   "source": [
    "# Voorbereiding\n",
    " \n"
   ]
  },
  {
   "cell_type": "markdown",
   "metadata": {},
   "source": [
    "**Opdrachten:**  "
   ]
  },
  {
   "cell_type": "markdown",
   "metadata": {},
   "source": [
    "**Methode:**  \n"
   ]
  },
  {
   "cell_type": "markdown",
   "metadata": {},
   "source": [
    "**Bijbehorende theoretische beschouwing:**  \n"
   ]
  },
  {
   "cell_type": "markdown",
   "metadata": {},
   "source": [
    "**Onafhankelijke variabele:**  \n",
    "**Afhankelijke variabele:**  \n",
    "**Te controleren variablen:**  \n"
   ]
  },
  {
   "cell_type": "markdown",
   "metadata": {},
   "source": [
    "**Meetinstrumenten \\& instellingen:**  "
   ]
  },
  {
   "cell_type": "markdown",
   "metadata": {},
   "source": [
    "**Procedure:**  \n",
    "**Setup (tekening of foto):**  "
   ]
  },
  {
   "cell_type": "code",
   "execution_count": 85,
   "metadata": {
    "ExecuteTime": {
     "end_time": "2023-10-13T15:13:00.058853200Z",
     "start_time": "2023-10-13T15:12:59.847244900Z"
    }
   },
   "outputs": [],
   "source": [
    "#Metingen voorafgaand aan het experiment\n",
    "\n",
    "#dikte van magneet\n",
    "d_m = 5e-3  #m 5mm\n",
    "u_d_m = 0.1e-3  #m\n",
    "\n",
    "#diepte van aantrekkende magneet\n",
    "h_1_aan = 3.35e-3  #m 3.35mm\n",
    "u_h_1_aan = 0.05e-3  #m\n",
    "\n",
    "#diepte van afstotende magneet\n",
    "h_1_af = 3.55e-3  #m 3.55mm\n",
    "u_h_1_af = 0.05e-3  #m\n",
    "\n",
    "#diepte van magneet onderin\n",
    "h_2 = 3.70e-3  #m 3.70mm\n",
    "u_h_2 = 0.05e-3  #m\n",
    "\n",
    "#gewicht magneetjes\n",
    "m_aan = 0.013  #kg 0.013\n",
    "u_m_aan = 0.001  #kg\n",
    "m_af = 0.093  #kg 0.093\n",
    "u_m_af = 0.001  #kg\n",
    "\n",
    "#onzekerheid in Z en F\n",
    "u_h_12 = 0.5e-3\n",
    "u_z = np.sqrt(u_d_m ** 2 + u_h_1_af ** 2 + u_h_2 ** 2 + u_h_12 ** 2)\n",
    "u_F = 1e-3 * 9.81\n"
   ]
  },
  {
   "cell_type": "markdown",
   "metadata": {},
   "source": [
    "**Notities:**  Er is een aantrekkingskracht tussen de magneten en het statief, dit zou voor onnauwkeurigheden kunnen zorgen.\n",
    "**Over de nauwkeurigheid:** De nauwkeurigheid van de schuifmaat stond op de schuifmaat, hiermee zijn h1-af, h1-aan en h2 gemeten. De onzekerheid van dm stond in de data sheet.\n",
    "\n",
    "De 0cm van het meetinstrument van het statief staat niet op de 0 van h12, de afstand is ongeveer 3$\\pm$1 mm en is niet verwerkt in het excel bestand."
   ]
  },
  {
   "cell_type": "markdown",
   "metadata": {},
   "source": [
    "# Uitvoering"
   ]
  },
  {
   "cell_type": "code",
   "execution_count": 86,
   "metadata": {
    "ExecuteTime": {
     "end_time": "2023-10-13T15:13:00.061863600Z",
     "start_time": "2023-10-13T15:12:59.863548200Z"
    }
   },
   "outputs": [
    {
     "name": "stdout",
     "output_type": "stream",
     "text": [
      "[0.044  0.012  0.0085 0.006  0.005  0.004  0.003  0.0022 0.0017 0.001 ]\n",
      "[0.      0.24525 0.47088 0.75537 0.99081 1.20663 1.3734  1.70694 1.91295\n",
      " 2.27592]\n",
      "[0.019  0.015  0.012  0.01   0.009  0.008  0.0075 0.007  0.006  0.0055]\n",
      "[0.0981  0.18639 0.26487 0.35316 0.41202 0.50031 0.56898 0.64746 0.72594\n",
      " 0.82404]\n"
     ]
    }
   ],
   "source": [
    "# De metingen zijn opgeslagen in IE_1_metingen_raw.csv. Deze worden ingeladen.\n",
    "# Vervolgens wordt die dataset uiteengerafeld zodat de variabelen leesbaar zijn\n",
    "\n",
    "data = np.loadtxt('IE1_metingen_raw.csv', delimiter=';', skiprows=1, unpack=True,\n",
    "                  dtype=float)  #Note: delimiter kan ook ; zijn\n",
    "\n",
    "h_12_af = np.array(data[0, :] - 3) * 1e-3\n",
    "\n",
    "F_af = 9.81 * m_af - np.array(data[1, :]) * 9.81\n",
    "\n",
    "h_12_aan = np.array(data[3, :] - 3) * 1e-3\n",
    "\n",
    "F_aan = np.array(data[4, :]) * 9.81 - m_aan * 9.81\n",
    "print(h_12_aan)\n",
    "print(F_aan)\n",
    "print(h_12_af)\n",
    "print(F_af)"
   ]
  },
  {
   "cell_type": "markdown",
   "metadata": {},
   "source": [
    "**Waarnemingen:**  \n",
    "**Notities:**  "
   ]
  },
  {
   "cell_type": "markdown",
   "metadata": {},
   "source": [
    "# Verwerking\n",
    "**Beschrijving van hoe de ruwe data zijn verwerkt tot wetenschappelijk bewijs:**\n"
   ]
  },
  {
   "cell_type": "code",
   "execution_count": 87,
   "metadata": {
    "ExecuteTime": {
     "end_time": "2023-10-13T15:13:00.072553600Z",
     "start_time": "2023-10-13T15:12:59.869690900Z"
    }
   },
   "outputs": [],
   "source": [
    "#Berekening voor de hart-tot-hart afstand tussen de magneten\n",
    "z_aan = d_m + h_1_aan + h_2 + h_12_aan\n",
    "\n",
    "z_af = d_m + h_1_af + h_2 + h_12_af"
   ]
  },
  {
   "cell_type": "markdown",
   "metadata": {},
   "source": [
    "### Data verwerking en analyse:\n",
    "Bekijk eerst de data zonder de meetonzekerheid te beschouwen. Gebruik de volgende cell om al je data the plotten. Vergeet de wetenschappelijke conventies betreffende grafieken niet!"
   ]
  },
  {
   "cell_type": "code",
   "execution_count": 88,
   "metadata": {
    "ExecuteTime": {
     "end_time": "2023-10-13T15:13:00.125052900Z",
     "start_time": "2023-10-13T15:12:59.874864500Z"
    }
   },
   "outputs": [
    {
     "data": {
      "text/plain": "<Figure size 640x480 with 1 Axes>",
      "image/png": "[encoded data removed]"
     },
     "metadata": {},
     "output_type": "display_data"
    }
   ],
   "source": [
    "#Data verwerking en analyse:\n",
    "\n",
    "#(F,z)-plot \n",
    "plt.figure()\n",
    "#** [your code] **\n",
    "plt.plot(z_af, F_af, 'k.', label=\"Afstotende magneet\")\n",
    "plt.plot(z_aan, F_aan, 'r.', label=\"Aantrekkende magneet\")\n",
    "plt.xlabel(\"Heart to heart afstand (m) ->\")\n",
    "plt.ylabel(\"|Magneetkracht| (N) ->\")\n",
    "plt.legend()\n",
    "plt.show()"
   ]
  },
  {
   "cell_type": "markdown",
   "metadata": {},
   "source": [
    "Op basis van je plot en een visuele inspectie, mag je de twee datasets combineren? Zo ja, combineer de twee datasets."
   ]
  },
  {
   "cell_type": "code",
   "execution_count": 89,
   "metadata": {
    "ExecuteTime": {
     "end_time": "2023-10-13T15:13:00.125052900Z",
     "start_time": "2023-10-13T15:12:59.959765800Z"
    }
   },
   "outputs": [],
   "source": [
    "#combineren arrays \n",
    "z = np.concatenate((z_af, z_aan))\n",
    "F = np.concatenate((F_af, F_aan))"
   ]
  },
  {
   "cell_type": "markdown",
   "metadata": {},
   "source": [
    "Maak nu een errorbarplot. Zie https://matplotlib.org/stable/api/_as_gen/matplotlib.pyplot.errorbar.html voor de mogelijkheden."
   ]
  },
  {
   "cell_type": "code",
   "execution_count": 93,
   "metadata": {
    "ExecuteTime": {
     "end_time": "2023-10-13T15:13:21.675011800Z",
     "start_time": "2023-10-13T15:13:21.593616200Z"
    }
   },
   "outputs": [
    {
     "data": {
      "text/plain": "<Figure size 640x480 with 1 Axes>",
      "image/png": "[encoded data removed]"
     },
     "metadata": {},
     "output_type": "display_data"
    }
   ],
   "source": [
    "#Data verwerking en analyse:\n",
    "#(F,z)-plot met errorbars\n",
    "plt.figure()\n",
    "#** [your code] **\n",
    "plt.plot(z, F, 'k.', label=\"Magneetkracht\")\n",
    "plt.xlabel(\"Heart to heart afstand (m) ->\")\n",
    "plt.ylabel(\"|Magneetkracht| (N) ->\")\n",
    "plt.errorbar(z, F, u_F, u_z, 'b.')\n",
    "plt.legend()\n",
    "plt.show()"
   ]
  },
  {
   "cell_type": "markdown",
   "metadata": {},
   "source": [
    "## Fitten van de data \n",
    "### Functie gebruikt om te fitten: $F = \\frac{a}{z^4}$\n",
    "Er zijn verschillende opties om onze data te analyseren. We bekijken een aantal van deze mogelijkheden. \n",
    "\n",
    "Op basis van de theoretische beschouwing verwachten we dat onze data beschreven kan worden met: $ F = \\frac{a}{z^4} $. We kunnen op basis van de kleinste kwadraten methode deze functie laten fitten aan onze data. Hoe dat in Python kan, staat hier uitgebreid beschreven: https://docs.scipy.org/doc/scipy/reference/generated/scipy.optimize.curve_fit.html\n",
    "\n",
    "Bedenk zelf of de meting(en) $F$ = 0 N meegenomen moet worden of niet."
   ]
  },
  {
   "cell_type": "code",
   "execution_count": 94,
   "metadata": {
    "ExecuteTime": {
     "end_time": "2023-10-13T15:13:37.903374600Z",
     "start_time": "2023-10-13T15:13:37.881294800Z"
    }
   },
   "outputs": [
    {
     "name": "stdout",
     "output_type": "stream",
     "text": [
      "a =  7.137858933778198e-08 +/- 1.4804927871035118e-09\n"
     ]
    }
   ],
   "source": [
    "#De te fitten functie\n",
    "def func(x, a):\n",
    "    return a / x ** 4\n",
    "\n",
    "\n",
    "#Het fitten op basis van kleinste kwadraten methode:\n",
    "popt, pcov = curve_fit(func, z, F)\n",
    "\n",
    "print('a = ', popt[0], '+/-', np.sqrt(pcov[0, 0]))"
   ]
  },
  {
   "cell_type": "markdown",
   "metadata": {},
   "source": [
    "De waarde die we laten printen is de constante $a$ uit de vergelijking: $ F = \\frac{a}{z^4} $. \n",
    "\n",
    "Maak een nieuwe plot die zowel je data als de fitfunctie toont. Een deel van de benodigde code is hieronder al voor je geschreven."
   ]
  },
  {
   "cell_type": "code",
   "execution_count": 95,
   "metadata": {
    "tags": [],
    "ExecuteTime": {
     "end_time": "2023-10-13T15:14:33.066102500Z",
     "start_time": "2023-10-13T15:14:32.982409400Z"
    }
   },
   "outputs": [
    {
     "data": {
      "text/plain": "<Figure size 640x480 with 1 Axes>",
      "image/png": "[encoded data removed]"
     },
     "metadata": {},
     "output_type": "display_data"
    }
   ],
   "source": [
    "#(F,z)-plot met foutenbalken en fitfunctie\n",
    "plt.figure()\n",
    "\n",
    "#** [your code] **\n",
    "\n",
    "min_value_z = min(z)\n",
    "max_value_z = max(z)\n",
    "\n",
    "x = np.linspace(min_value_z, max_value_z, 1000)\n",
    "y = func(x, *popt)\n",
    "\n",
    "plt.plot(x, y, 'r--', linewidth=1)\n",
    "plt.show()"
   ]
  },
  {
   "cell_type": "markdown",
   "metadata": {},
   "source": [
    "#### Residue analyse\n",
    "Het is nuttig om te onderzoeken of onze fit een 'goede' fit is. De hierboven gemaakte plot is niet de makkelijkste manier om dat te zien. Maar we kunnen gebruik maken van een residue analyse waarbij we \"de metingen - de fit\" tonen. De code hieronder geeft al een goed idee van hoe die analyse eruit moet zien. \n",
    "\n",
    "Analyseer het residue door de onderstaande code compleet te maken. "
   ]
  },
  {
   "cell_type": "code",
   "execution_count": 96,
   "metadata": {
    "ExecuteTime": {
     "end_time": "2023-10-13T15:15:13.201798100Z",
     "start_time": "2023-10-13T15:15:13.131617200Z"
    }
   },
   "outputs": [
    {
     "data": {
      "text/plain": "<Figure size 640x480 with 1 Axes>",
      "image/png": "[encoded data removed]"
     },
     "metadata": {},
     "output_type": "display_data"
    }
   ],
   "source": [
    "# Residue analyse\n",
    "plt.figure()\n",
    "plt.plot(z, func(z, popt[0]) - F, 'k.', linewidth=1)\n",
    "plt.show()\n",
    "#Geen duidelijke systematische afwijking te ontdekken"
   ]
  },
  {
   "cell_type": "markdown",
   "metadata": {},
   "source": [
    "### Fitten met een systematische fout\n",
    "We konden de hart-tot-hart afstand maar met een bepaalde nauwkeurigheid meten. Daarbij is er gebruik gemaakt van een referentiepunt. Dat kan er voor zorgen dat er sprake is van een systematische fout in de hart-tot-hart afstand. Dat kunnen we nader onderzoeken door te fitten aan de functie $F=\\frac{a}{(z+\\Delta z)^4}$, waarin $\\Delta z$ onze systematische fout is. \n",
    "\n",
    "Onderzoek of er sprake is van een systematische fout."
   ]
  },
  {
   "cell_type": "code",
   "execution_count": 102,
   "metadata": {
    "ExecuteTime": {
     "end_time": "2023-10-13T15:22:21.534027100Z",
     "start_time": "2023-10-13T15:22:21.525800400Z"
    }
   },
   "outputs": [
    {
     "name": "stdout",
     "output_type": "stream",
     "text": [
      "[2.96855634e-03 1.49973236e-07]\n",
      "[6.18772224e-08 7.12483345e-17]\n"
     ]
    }
   ],
   "source": [
    "def funcwitherror(z, dz, a):\n",
    "    return a / ((z + dz) ** 4)\n",
    "\n",
    "\n",
    "val, cov = curve_fit(funcwitherror, z, F)\n",
    "print(val)\n",
    "print(np.diag(cov))"
   ]
  },
  {
   "cell_type": "markdown",
   "metadata": {},
   "source": [
    "### Linear fit\n",
    "In klas vier heb je geleerd hoe je een coordinaattransformatie uit moet voeren (waarschijnlijk ben je dat allang weer vergeten). Bij een coordinaattransformatie willen we de data beschrijven met een rechte lijn, in dit geval: $ F = a \\cdot u $. Om dat te doen moeten we $ z^{-4} $ substitueren met $ u $. \n",
    "\n",
    "Maak een nieuwe variabel $ u $ met de waarden $ z^{-4} $ en plot $F$ als functie van $u$. Lijkt de grafiek linear?"
   ]
  },
  {
   "cell_type": "code",
   "execution_count": null,
   "metadata": {
    "ExecuteTime": {
     "start_time": "2023-10-13T15:13:00.138379900Z"
    }
   },
   "outputs": [],
   "source": [
    "#(F,u)-plot zonder errorbars \n",
    "plt.figure()\n",
    "u =\n",
    "** [your code] **\n",
    "plt.show()"
   ]
  },
  {
   "cell_type": "markdown",
   "metadata": {},
   "source": [
    "In de bovenstaande plot missen onze errorbars nog. Als $ u = z^{-4} $, dan $ u_u = 4 \\cdot u_z \\cdot z^{-5} $. Toon dit aan."
   ]
  },
  {
   "cell_type": "markdown",
   "metadata": {},
   "source": [
    "Bereken de onzekerheden voor $ u $ en maak de errorbarplot ($ F $, $ u $)."
   ]
  },
  {
   "cell_type": "code",
   "execution_count": null,
   "metadata": {
    "ExecuteTime": {
     "start_time": "2023-10-13T15:13:00.140247600Z"
    }
   },
   "outputs": [],
   "source": [
    "#(F,u)-plot met errorbars \n",
    "plt.figure()\n",
    "** [your code] **\n",
    "plt.show()"
   ]
  },
  {
   "cell_type": "markdown",
   "metadata": {},
   "source": [
    "Nu gaan we een lineaire functie fitten. Voer de volgende stappen uit :\n",
    "* defineer de functie voor deze fit \n",
    "* maak gebruik van curve fit om de data te fitten\n",
    "* plot je metingen en bijbehorende fit"
   ]
  },
  {
   "cell_type": "code",
   "execution_count": null,
   "metadata": {
    "ExecuteTime": {
     "start_time": "2023-10-13T15:13:00.142221300Z"
    }
   },
   "outputs": [],
   "source": [
    "#(F,u)-plot met errorbars en de fitfunctie\n",
    "plt.figure()\n",
    "** [your code] **\n",
    "plt.show()"
   ]
  },
  {
   "cell_type": "markdown",
   "metadata": {},
   "source": [
    "Maak grafieken van je data die relevant zijn binnen de gegeven context."
   ]
  },
  {
   "cell_type": "code",
   "execution_count": null,
   "metadata": {
    "ExecuteTime": {
     "start_time": "2023-10-13T15:13:00.145270500Z"
    }
   },
   "outputs": [],
   "source": [
    "#aanvullende grafieken \n",
    "plt.figure()\n",
    "** [your code] **\n",
    "plt.show()"
   ]
  },
  {
   "cell_type": "markdown",
   "metadata": {},
   "source": [
    "Er is minstens nog een aanvullende manier om het verwachtte exponentiele verband ($ y = a\\cdot x^n $) te onderzoeken. We kunnen gebruik maken van een log-log plot om te zien of de richtingscoëfficient daarvan -4, en constant is. \n",
    "\n",
    "Onderzoek of dit geldt."
   ]
  },
  {
   "cell_type": "code",
   "execution_count": null,
   "metadata": {
    "ExecuteTime": {
     "start_time": "2023-10-13T15:13:00.147273700Z"
    }
   },
   "outputs": [],
   "source": [
    "#extra analysis\n",
    "plt.figure()\n",
    "** [your code] **\n",
    "plt.show()"
   ]
  },
  {
   "cell_type": "markdown",
   "metadata": {},
   "source": [
    "Misschien ben je nog steeds niet tevreden over de resultaten... Je kunt dan nog altijd onderzoeken wat de waarden van $a$ en $n$ zijn als je fit aan de functie $F = a \\cdot z^{n}$..."
   ]
  },
  {
   "cell_type": "code",
   "execution_count": null,
   "metadata": {
    "ExecuteTime": {
     "start_time": "2023-10-13T15:13:00.149275300Z"
    }
   },
   "outputs": [],
   "source": []
  },
  {
   "cell_type": "markdown",
   "metadata": {},
   "source": [
    "## Berekening van het remanente veld\n",
    "Als je data goed beschreven kan worden met de formule $F=\\frac{\\alpha}{z^4}$ (eventueel met systematische fout), dan weten we nog niet of de theoretische benadering gevalideerd is. Daartoe moeten we het remanente veld uitrekenen en vergelijken met de datasheet van de producent van de magneten. Deze analyse omvat de volgende stappen:\n",
    "* bereken de waarden van $\\alpha$ en de bijbehorende meetonzekerheid \n",
    "* gebruik deze waarde om het remanente veld uit te rekenen $B_r$ \n",
    "* bereken de bijbehorende onzekerheid\n",
    "* voor een strijdigsheidsanalyse uit om te onderzoeken of de waarden voldoende overeenkomen.\n",
    "\n",
    "Voer de analyse uit."
   ]
  },
  {
   "cell_type": "code",
   "execution_count": null,
   "metadata": {
    "tags": [],
    "ExecuteTime": {
     "start_time": "2023-10-13T15:13:00.150275Z"
    }
   },
   "outputs": [],
   "source": []
  },
  {
   "cell_type": "code",
   "execution_count": null,
   "metadata": {
    "ExecuteTime": {
     "start_time": "2023-10-13T15:13:00.150275Z"
    }
   },
   "outputs": [],
   "source": []
  },
  {
   "cell_type": "markdown",
   "metadata": {},
   "source": [
    "**Beschrijving van het patroon in de verwerkte data:**  \n"
   ]
  },
  {
   "cell_type": "code",
   "execution_count": null,
   "metadata": {
    "tags": [],
    "ExecuteTime": {
     "start_time": "2023-10-13T15:13:00.152274400Z"
    }
   },
   "outputs": [],
   "source": [
    "#Berekeningen o.a. rond de meetonzekerheden, incl de eindantwoorden.\n"
   ]
  },
  {
   "cell_type": "markdown",
   "metadata": {},
   "source": [
    "# Discussie\n",
    "Voeg hier de discussie toe."
   ]
  },
  {
   "cell_type": "markdown",
   "metadata": {},
   "source": [
    "# Conclusie\n",
    "Voeg hier de conclusie toe."
   ]
  },
  {
   "cell_type": "markdown",
   "metadata": {},
   "source": [
    "# Andere notities, opmerkingen, verklaringen, gedachten etc\n"
   ]
  },
  {
   "cell_type": "code",
   "execution_count": null,
   "metadata": {
    "ExecuteTime": {
     "start_time": "2023-10-13T15:13:00.153275900Z"
    }
   },
   "outputs": [],
   "source": [
    "# Eventuele extra notities"
   ]
  },
  {
   "cell_type": "markdown",
   "metadata": {},
   "source": []
  }
 ],
 "metadata": {
  "kernelspec": {
   "display_name": "Python 3 [3.10]",
   "language": "python",
   "name": "python3"
  },
  "language_info": {
   "codemirror_mode": {
    "name": "ipython",
    "version": 3
   },
   "file_extension": ".py",
   "mimetype": "text/x-python",
   "name": "python",
   "nbconvert_exporter": "python",
   "pygments_lexer": "ipython3",
   "version": "3.10.2"
  }
 },
 "nbformat": 4,
 "nbformat_minor": 4
}
