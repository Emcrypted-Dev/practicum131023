{
 "cells": [
  {
   "cell_type": "markdown",
   "metadata": {},
   "source": [
    "# Algemeen\n",
    "\n",
    "Dit is het template voor het labjournaal. Je kunt gebruik maken van markdown cellen om alle informatie in te noteren. Hoe markdown werkt vind je hier: https://jupyter-notebook.readthedocs.io/en/stable/examples/Notebook/Working%20With%20Markdown%20Cells.html."
   ]
  },
  {
   "cell_type": "code",
   "execution_count": 1,
   "metadata": {
    "tags": []
   },
   "outputs": [],
   "source": [
    "#importeren van de benodige libraries\n",
    "import matplotlib.pyplot as plt\n",
    "import numpy as np\n",
    "import math\n",
    "from scipy.optimize import curve_fit "
   ]
  },
  {
   "cell_type": "markdown",
   "metadata": {},
   "source": [
    "**Namen:**  "
   ]
  },
  {
   "cell_type": "markdown",
   "metadata": {},
   "source": [
    "**Titel van het experiment:**  "
   ]
  },
  {
   "cell_type": "markdown",
   "metadata": {},
   "source": [
    "**Startdatum:**  \n",
    "**Verwachte einddatum:**  \n"
   ]
  },
  {
   "cell_type": "markdown",
   "metadata": {},
   "source": [
    "**Doel van het experiment:**  \n",
    "\n",
    "In dit experiment bepalen we de relatie tussen de kracht tussen twee magneten als functie van hun onderlinge afstand. De gebruikte opstelling is hieronder getoond:\n",
    "<center>\n",
    "<img src = 'IE1_opstelling.jpg' width = \"200\" height=\"20\"></img>\n",
    "</center>\n",
    "Voor het berekenen van de hart-tot-hart afstand tussen de twee magneten wordt gebruik gemaakt van de volgende definities:\n",
    "<center>\n",
    "<img src = 'ie1_opst_onz.jpg' width =\"200\" height = \"20\"></img>\n",
    "</center>"
   ]
  },
  {
   "cell_type": "markdown",
   "metadata": {},
   "source": [
    "**Onderzoeksvragen:**  "
   ]
  },
  {
   "cell_type": "markdown",
   "metadata": {},
   "source": [
    "**Verwachte uitkomsten:**  "
   ]
  },
  {
   "cell_type": "markdown",
   "metadata": {},
   "source": [
    "**Gewenste nauwkeurigheid:**  "
   ]
  },
  {
   "cell_type": "markdown",
   "metadata": {},
   "source": [
    "# Voorbereiding\n",
    " \n"
   ]
  },
  {
   "cell_type": "markdown",
   "metadata": {},
   "source": [
    "**Opdrachten:**  "
   ]
  },
  {
   "cell_type": "markdown",
   "metadata": {},
   "source": [
    "**Methode:**  \n"
   ]
  },
  {
   "cell_type": "markdown",
   "metadata": {},
   "source": [
    "**Bijbehorende theoretische beschouwing:**  \n"
   ]
  },
  {
   "cell_type": "markdown",
   "metadata": {},
   "source": [
    "**Onafhankelijke variabele:**  \n",
    "**Afhankelijke variabele:**  \n",
    "**Te controleren variablen:**  \n"
   ]
  },
  {
   "cell_type": "markdown",
   "metadata": {},
   "source": [
    "**Meetinstrumenten \\& instellingen:**  "
   ]
  },
  {
   "cell_type": "markdown",
   "metadata": {},
   "source": [
    "**Procedure:**  \n",
    "**Setup (tekening of foto):**  "
   ]
  },
  {
   "cell_type": "code",
   "execution_count": null,
   "metadata": {},
   "outputs": [],
   "source": [
    "#Metingen voorafgaand aan het experiment\n",
    "\n",
    "#dikte van magneet\n",
    "d_m =  \n",
    "u_d_m = \n",
    "\n",
    "#diepte van aantrekkende magneet\n",
    "h_1_aan = \n",
    "u_h_1_aan =\n",
    "\n",
    "#diepte van afstotende magneet\n",
    "h_1_af = \n",
    "u_h_1_af =\n",
    "\n",
    "#diepte van magneet onderin\n",
    "h_2 = \n",
    "u_h_2 ="
   ]
  },
  {
   "cell_type": "markdown",
   "metadata": {},
   "source": [
    "**Notities:**  \n",
    "**Over de nauwkeurigheid:** "
   ]
  },
  {
   "cell_type": "markdown",
   "metadata": {},
   "source": [
    "# Uitvoering"
   ]
  },
  {
   "cell_type": "code",
   "execution_count": null,
   "metadata": {},
   "outputs": [],
   "source": [
    "# De metingen zijn opgeslagen in IE_1_metingen_raw.csv. Deze worden ingeladen.\n",
    "# Vervolgens wordt die dataset uiteengerafeld zodat de variabelen leesbaar zijn\n",
    "\n",
    "data = np.loadtxt('IE1_metingen_raw.csv',delimiter = ',', skiprows = 1, unpack = True) #Note: delimiter kan ook ; zijn\n",
    "\n",
    "h_12_af = \n",
    "\n",
    "F_af =    \n",
    "\n",
    "h_12_aan = \n",
    "\n",
    "F_aan =    "
   ]
  },
  {
   "cell_type": "markdown",
   "metadata": {},
   "source": [
    "**Waarnemingen:**  \n",
    "**Notities:**  "
   ]
  },
  {
   "cell_type": "markdown",
   "metadata": {},
   "source": [
    "# Verwerking\n",
    "**Beschrijving van hoe de ruwe data zijn verwerkt tot wetenschappelijk bewijs:**\n"
   ]
  },
  {
   "cell_type": "code",
   "execution_count": null,
   "metadata": {},
   "outputs": [],
   "source": [
    "#Berekening voor de hart-tot-hart afstand tussen de magneten\n",
    "z_aan =\n",
    "\n",
    "z_af = "
   ]
  },
  {
   "cell_type": "markdown",
   "metadata": {},
   "source": [
    "### Data verwerking en analyse:\n",
    "Bekijk eerst de data zonder de meetonzekerheid te beschouwen. Gebruik de volgende cell om al je data the plotten. Vergeet de wetenschappelijke conventies betreffende grafieken niet!"
   ]
  },
  {
   "cell_type": "code",
   "execution_count": null,
   "metadata": {},
   "outputs": [],
   "source": [
    "#Data verwerking en analyse:\n",
    "\n",
    "#(F,z)-plot \n",
    "plt.figure()\n",
    "**[your code]**\n",
    "plt.show()"
   ]
  },
  {
   "cell_type": "markdown",
   "metadata": {},
   "source": [
    "Op basis van je plot en een visuele inspectie, mag je de twee datasets combineren? Zo ja, combineer de twee datasets."
   ]
  },
  {
   "cell_type": "code",
   "execution_count": null,
   "metadata": {},
   "outputs": [],
   "source": [
    "#combineren arrays \n",
    "z = \n",
    "F = "
   ]
  },
  {
   "cell_type": "markdown",
   "metadata": {},
   "source": [
    "Maak nu een errorbarplot. Zie https://matplotlib.org/stable/api/_as_gen/matplotlib.pyplot.errorbar.html voor de mogelijkheden."
   ]
  },
  {
   "cell_type": "code",
   "execution_count": null,
   "metadata": {},
   "outputs": [],
   "source": [
    "#Data verwerking en analyse:\n",
    "#(F,z)-plot met errorbars\n",
    "plt.figure()\n",
    "**[your code]**\n",
    "plt.show()"
   ]
  },
  {
   "cell_type": "markdown",
   "metadata": {},
   "source": [
    "## Fitten van de data \n",
    "### Functie gebruikt om te fitten: $F = \\frac{a}{z^4}$\n",
    "Er zijn verschillende opties om onze data te analyseren. We bekijken een aantal van deze mogelijkheden. \n",
    "\n",
    "Op basis van de theoretische beschouwing verwachten we dat onze data beschreven kan worden met: $ F = \\frac{a}{z^4} $. We kunnen op basis van de kleinste kwadraten methode deze functie laten fitten aan onze data. Hoe dat in Python kan, staat hier uitgebreid beschreven: https://docs.scipy.org/doc/scipy/reference/generated/scipy.optimize.curve_fit.html\n",
    "\n",
    "Bedenk zelf of de meting(en) $F$ = 0 N meegenomen moet worden of niet."
   ]
  },
  {
   "cell_type": "code",
   "execution_count": null,
   "metadata": {},
   "outputs": [],
   "source": [
    "#De te fitten functie\n",
    "def func(x,a):\n",
    "\treturn a/x**4\n",
    "\n",
    "#Het fitten op basis van kleinste kwadraten methode:\n",
    "popt,pcov = curve_fit(func,z,F)\n",
    "\n",
    "print('a = ', popt[0], '+/-', np.sqrt(pcov[0,0]))"
   ]
  },
  {
   "cell_type": "markdown",
   "metadata": {},
   "source": [
    "De waarde die we laten printen is de constante $a$ uit de vergelijking: $ F = \\frac{a}{z^4} $. \n",
    "\n",
    "Maak een nieuwe plot die zowel je data als de fitfunctie toont. Een deel van de benodigde code is hieronder al voor je geschreven."
   ]
  },
  {
   "cell_type": "code",
   "execution_count": null,
   "metadata": {
    "tags": []
   },
   "outputs": [],
   "source": [
    "#(F,z)-plot met foutenbalken en fitfunctie\n",
    "plt.figure()\n",
    "\n",
    "\n",
    "**[your code]**\n",
    "\n",
    "min_value_z = \n",
    "max_value_z =\n",
    "\n",
    "x = np.linspace(min_value_z,max_value_z,1000)\n",
    "y = func(x,*popt)\n",
    "\n",
    "plt.plot(x,y,'r--',linewidth=1)   \n",
    "plt.show()"
   ]
  },
  {
   "cell_type": "markdown",
   "metadata": {},
   "source": [
    "#### Residue analyse\n",
    "Het is nuttig om te onderzoeken of onze fit een 'goede' fit is. De hierboven gemaakte plot is niet de makkelijkste manier om dat te zien. Maar we kunnen gebruik maken van een residue analyse waarbij we \"de metingen - de fit\" tonen. De code hieronder geeft al een goed idee van hoe die analyse eruit moet zien. \n",
    "\n",
    "Analyseer het residue door de onderstaande code compleet te maken. "
   ]
  },
  {
   "cell_type": "code",
   "execution_count": null,
   "metadata": {},
   "outputs": [],
   "source": [
    "# Residue analyse\n",
    "plt.figure()\n",
    "plt.plot(z,func(z,popt[0])-F,'k.',linewidth=1)   \n",
    "plt.show()"
   ]
  },
  {
   "cell_type": "markdown",
   "metadata": {},
   "source": [
    "### Fitten met een systematische fout\n",
    "We konden de hart-tot-hart afstand maar met een bepaalde nauwkeurigheid meten. Daarbij is er gebruik gemaakt van een referentiepunt. Dat kan er voor zorgen dat er sprake is van een systematische fout in de hart-tot-hart afstand. Dat kunnen we nader onderzoeken door te fitten aan de functie $F=\\frac{a}{(z+\\Delta z)^4}$, waarin $\\Delta z$ onze systematische fout is. \n",
    "\n",
    "Onderzoek of er sprake is van een systematische fout."
   ]
  },
  {
   "cell_type": "code",
   "execution_count": null,
   "metadata": {},
   "outputs": [],
   "source": []
  },
  {
   "cell_type": "markdown",
   "metadata": {},
   "source": [
    "### Linear fit\n",
    "In klas vier heb je geleerd hoe je een coordinaattransformatie uit moet voeren (waarschijnlijk ben je dat allang weer vergeten). Bij een coordinaattransformatie willen we de data beschrijven met een rechte lijn, in dit geval: $ F = a \\cdot u $. Om dat te doen moeten we $ z^{-4} $ substitueren met $ u $. \n",
    "\n",
    "Maak een nieuwe variabel $ u $ met de waarden $ z^{-4} $ en plot $F$ als functie van $u$. Lijkt de grafiek linear?"
   ]
  },
  {
   "cell_type": "code",
   "execution_count": null,
   "metadata": {},
   "outputs": [],
   "source": [
    "#(F,u)-plot zonder errorbars \n",
    "plt.figure()\n",
    "u =\n",
    "**[your code]**\n",
    "plt.show()"
   ]
  },
  {
   "cell_type": "markdown",
   "metadata": {},
   "source": [
    "In de bovenstaande plot missen onze errorbars nog. Als $ u = z^{-4} $, dan $ u_u = 4 \\cdot u_z \\cdot z^{-5} $. Toon dit aan."
   ]
  },
  {
   "cell_type": "markdown",
   "metadata": {},
   "source": [
    "Bereken de onzekerheden voor $ u $ en maak de errorbarplot ($ F $, $ u $)."
   ]
  },
  {
   "cell_type": "code",
   "execution_count": null,
   "metadata": {},
   "outputs": [],
   "source": [
    "#(F,u)-plot met errorbars \n",
    "plt.figure()\n",
    "**[your code]**\n",
    "plt.show()"
   ]
  },
  {
   "cell_type": "markdown",
   "metadata": {},
   "source": [
    "Nu gaan we een lineaire functie fitten. Voer de volgende stappen uit :\n",
    "* defineer de functie voor deze fit \n",
    "* maak gebruik van curve fit om de data te fitten\n",
    "* plot je metingen en bijbehorende fit"
   ]
  },
  {
   "cell_type": "code",
   "execution_count": null,
   "metadata": {},
   "outputs": [],
   "source": [
    "#(F,u)-plot met errorbars en de fitfunctie\n",
    "plt.figure()\n",
    "**[your code]**\n",
    "plt.show()"
   ]
  },
  {
   "cell_type": "markdown",
   "metadata": {},
   "source": [
    "Maak grafieken van je data die relevant zijn binnen de gegeven context."
   ]
  },
  {
   "cell_type": "code",
   "execution_count": null,
   "metadata": {},
   "outputs": [],
   "source": [
    "#aanvullende grafieken \n",
    "plt.figure()\n",
    "**[your code]**\n",
    "plt.show()"
   ]
  },
  {
   "cell_type": "markdown",
   "metadata": {},
   "source": [
    "Er is minstens nog een aanvullende manier om het verwachtte exponentiele verband ($ y = a\\cdot x^n $) te onderzoeken. We kunnen gebruik maken van een log-log plot om te zien of de richtingscoëfficient daarvan -4, en constant is. \n",
    "\n",
    "Onderzoek of dit geldt."
   ]
  },
  {
   "cell_type": "code",
   "execution_count": null,
   "metadata": {},
   "outputs": [],
   "source": [
    "#extra analysis\n",
    "plt.figure()\n",
    "**[your code]**\n",
    "plt.show()"
   ]
  },
  {
   "cell_type": "markdown",
   "metadata": {},
   "source": [
    "Misschien ben je nog steeds niet tevreden over de resultaten... Je kunt dan nog altijd onderzoeken wat de waarden van $a$ en $n$ zijn als je fit aan de functie $F = a \\cdot z^{n}$..."
   ]
  },
  {
   "cell_type": "code",
   "execution_count": null,
   "metadata": {},
   "outputs": [],
   "source": []
  },
  {
   "cell_type": "markdown",
   "metadata": {},
   "source": [
    "## Berekening van het remanente veld\n",
    "Als je data goed beschreven kan worden met de formule $F=\\frac{\\alpha}{z^4}$ (eventueel met systematische fout), dan weten we nog niet of de theoretische benadering gevalideerd is. Daartoe moeten we het remanente veld uitrekenen en vergelijken met de datasheet van de producent van de magneten. Deze analyse omvat de volgende stappen:\n",
    "* bereken de waarden van $\\alpha$ en de bijbehorende meetonzekerheid \n",
    "* gebruik deze waarde om het remanente veld uit te rekenen $B_r$ \n",
    "* bereken de bijbehorende onzekerheid\n",
    "* voor een strijdigsheidsanalyse uit om te onderzoeken of de waarden voldoende overeenkomen.\n",
    "\n",
    "Voer de analyse uit."
   ]
  },
  {
   "cell_type": "code",
   "execution_count": null,
   "metadata": {
    "tags": []
   },
   "outputs": [],
   "source": []
  },
  {
   "cell_type": "code",
   "execution_count": null,
   "metadata": {},
   "outputs": [],
   "source": []
  },
  {
   "cell_type": "markdown",
   "metadata": {},
   "source": [
    "**Beschrijving van het patroon in de verwerkte data:**  \n"
   ]
  },
  {
   "cell_type": "code",
   "execution_count": null,
   "metadata": {
    "tags": []
   },
   "outputs": [],
   "source": [
    "#Berekeningen o.a. rond de meetonzekerheden, incl de eindantwoorden.\n"
   ]
  },
  {
   "cell_type": "markdown",
   "metadata": {},
   "source": [
    "# Discussie\n",
    "Voeg hier de discussie toe."
   ]
  },
  {
   "cell_type": "markdown",
   "metadata": {},
   "source": [
    "# Conclusie\n",
    "Voeg hier de conclusie toe."
   ]
  },
  {
   "cell_type": "markdown",
   "metadata": {},
   "source": [
    "# Andere notities, opmerkingen, verklaringen, gedachten etc\n"
   ]
  },
  {
   "cell_type": "code",
   "execution_count": null,
   "metadata": {},
   "outputs": [],
   "source": [
    "# Eventuele extra notities"
   ]
  },
  {
   "cell_type": "markdown",
   "metadata": {},
   "source": []
  }
 ],
 "metadata": {
  "kernelspec": {
   "display_name": "Python 3 [3.10]",
   "language": "python",
   "name": "python3"
  },
  "language_info": {
   "codemirror_mode": {
    "name": "ipython",
    "version": 3
   },
   "file_extension": ".py",
   "mimetype": "text/x-python",
   "name": "python",
   "nbconvert_exporter": "python",
   "pygments_lexer": "ipython3",
   "version": "3.10.2"
  }
 },
 "nbformat": 4,
 "nbformat_minor": 4
}
