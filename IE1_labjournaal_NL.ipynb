{
 "cells": [
  {
   "cell_type": "markdown",
   "metadata": {},
   "source": [
    "# Algemeen\n",
    "\n",
    "Dit is het template voor het labjournaal. Je kunt gebruik maken van markdown cellen om alle informatie in te noteren. Hoe markdown werkt vind je hier: https://jupyter-notebook.readthedocs.io/en/stable/examples/Notebook/Working%20With%20Markdown%20Cells.html."
   ]
  },
  {
   "cell_type": "code",
   "execution_count": 157,
   "metadata": {
    "tags": [],
    "ExecuteTime": {
     "end_time": "2023-10-20T14:48:02.806087100Z",
     "start_time": "2023-10-20T14:48:02.352129700Z"
    }
   },
   "outputs": [],
   "source": [
    "#importeren van de benodige libraries\n",
    "import matplotlib.pyplot as plt\n",
    "import numpy as np\n",
    "import math\n",
    "from scipy.optimize import curve_fit"
   ]
  },
  {
   "cell_type": "markdown",
   "metadata": {},
   "source": [
    "**Namen:** Thomas Bosch, Lennard Stelloo  "
   ]
  },
  {
   "cell_type": "code",
   "execution_count": null,
   "outputs": [],
   "source": [
    "#(F,z)-plot met foutenbalken en fitfunctie\n",
    "plt.figure()\n",
    "\n",
    "#** [your code] **\n",
    "\n",
    "min_value_z = min(z)\n",
    "max_value_z = max(z)\n",
    "\n",
    "x = np.linspace(min_value_z, max_value_z, 1000)\n",
    "y = func(x, *popt)\n",
    "\n",
    "plt.plot(x, y, 'r--', linewidth=1)\n",
    "\n",
    "plt.xlabel(\"Heart to heart afstand (m) ->\")\n",
    "plt.ylabel(\"|Magneetkracht| (N) ->\")\n",
    "plt.errorbar(z, F, u_F, u_z, 'b.', label=\"Magneetkracht\")\n",
    "plt.legend()\n",
    "\n",
    "plt.show()"
   ],
   "metadata": {
    "collapsed": false
   }
  },
  {
   "cell_type": "markdown",
   "source": [
    "**Titel van het experiment:**  Bepaling van afhankelijkheid van de kracht tussen twee tegenover elkaar geplaatste schijfmagneten en de afstand tussen de magneten."
   ],
   "metadata": {
    "collapsed": false
   }
  },
  {
   "cell_type": "markdown",
   "source": [
    "**Startdatum:**  13 oktober 2023\n",
    "**Verwachte einddatum:**  13 oktober 2023\n"
   ],
   "metadata": {
    "collapsed": false
   }
  },
  {
   "cell_type": "markdown",
   "source": [
    "**Doel van het experiment:**  \n",
    "\n",
    "In dit experiment bepalen we de relatie tussen de kracht tussen twee magneten als functie van hun onderlinge afstand. De gebruikte opstelling is hieronder getoond:\n",
    "<center>\n",
    "<img src = 'IE1_opstelling.jpg' width = \"200\" height=\"20\"></img>\n",
    "</center>\n",
    "Voor het berekenen van de hart-tot-hart afstand tussen de twee magneten wordt gebruik gemaakt van de volgende definities:\n",
    "<center>\n",
    "<img src = 'ie1_opst_onz.jpg' width =\"200\" height = \"20\"></img>\n",
    "</center>"
   ],
   "metadata": {
    "collapsed": false
   }
  },
  {
   "cell_type": "markdown",
   "source": [
    "**Onderzoeksvragen:**  Hoe hangt de kracht tussen twee tegenover elkaar geplaatste schijfmagneten af van de afstand tussen de magneten?"
   ],
   "metadata": {
    "collapsed": false
   }
  },
  {
   "cell_type": "markdown",
   "source": [
    "**Verwachte uitkomsten:**  "
   ],
   "metadata": {
    "collapsed": false
   }
  },
  {
   "cell_type": "markdown",
   "source": [
    "**Gewenste nauwkeurigheid:**  "
   ],
   "metadata": {
    "collapsed": false
   }
  },
  {
   "cell_type": "markdown",
   "source": [
    "# Voorbereiding\n",
    " \n"
   ],
   "metadata": {
    "collapsed": false
   }
  },
  {
   "cell_type": "markdown",
   "source": [
    "**Opdrachten:**  "
   ],
   "metadata": {
    "collapsed": false
   }
  },
  {
   "cell_type": "markdown",
   "source": [
    "**Methode:**  \n"
   ],
   "metadata": {
    "collapsed": false
   }
  },
  {
   "cell_type": "markdown",
   "source": [
    "**Bijbehorende theoretische beschouwing:**  \n"
   ],
   "metadata": {
    "collapsed": false
   }
  },
  {
   "cell_type": "markdown",
   "source": [
    "**Onafhankelijke variabele:**  \n",
    "**Afhankelijke variabele:**  \n",
    "**Te controleren variablen:**  \n"
   ],
   "metadata": {
    "collapsed": false
   }
  },
  {
   "cell_type": "markdown",
   "source": [
    "**Meetinstrumenten \\& instellingen:**  "
   ],
   "metadata": {
    "collapsed": false
   }
  },
  {
   "cell_type": "markdown",
   "source": [
    "**Procedure:**  \n",
    "**Setup (tekening of foto):**  "
   ],
   "metadata": {
    "collapsed": false
   }
  },
  {
   "cell_type": "code",
   "execution_count": null,
   "outputs": [],
   "source": [
    "#Metingen voorafgaand aan het experiment\n",
    "\n",
    "#dikte van magneet\n",
    "d_m = 5e-3  #m 5mm\n",
    "u_d_m = 0.1e-3  #m\n",
    "\n",
    "#diepte van aantrekkende magneet\n",
    "h_1_aan = 3.35e-3  #m 3.35mm\n",
    "u_h_1_aan = 0.05e-3  #m\n",
    "\n",
    "#diepte van afstotende magneet\n",
    "h_1_af = 3.55e-3  #m 3.55mm\n",
    "u_h_1_af = 0.05e-3  #m\n",
    "\n",
    "#diepte van magneet onderin\n",
    "h_2 = 3.70e-3  #m 3.70mm\n",
    "u_h_2 = 0.05e-3  #m\n",
    "\n",
    "#gewicht magneetjes\n",
    "m_aan = 0.013  #kg 0.013\n",
    "u_m_aan = 0.001  #kg\n",
    "m_af = 0.093  #kg 0.093\n",
    "u_m_af = 0.001  #kg\n",
    "\n",
    "#onzekerheid in Z en F\n",
    "u_h_12 = 0.5e-3\n",
    "u_z = np.sqrt(u_d_m ** 2 + u_h_1_af ** 2 + u_h_2 ** 2 + u_h_12 ** 2)\n",
    "u_F = 1e-3 * 9.81\n"
   ],
   "metadata": {
    "collapsed": false
   }
  },
  {
   "cell_type": "markdown",
   "source": [
    "**Notities:**  Er is een aantrekkingskracht tussen de magneten en het statief, dit zou voor onnauwkeurigheden kunnen zorgen.\n",
    "**Over de nauwkeurigheid:** De nauwkeurigheid van de schuifmaat stond op de schuifmaat, hiermee zijn h1-af, h1-aan en h2 gemeten. De onzekerheid van dm stond in de data sheet.\n",
    "\n",
    "De 0cm van het meetinstrument van het statief staat niet op de 0 van h12, de afstand is ongeveer 3$\\pm$1 mm en is niet verwerkt in het excel bestand."
   ],
   "metadata": {
    "collapsed": false
   }
  },
  {
   "cell_type": "markdown",
   "source": [
    "# Uitvoering"
   ],
   "metadata": {
    "collapsed": false
   }
  },
  {
   "cell_type": "code",
   "execution_count": null,
   "outputs": [],
   "source": [
    "# De metingen zijn opgeslagen in IE_1_metingen_raw.csv. Deze worden ingeladen.\n",
    "# Vervolgens wordt die dataset uiteengerafeld zodat de variabelen leesbaar zijn\n",
    "\n",
    "data = np.loadtxt('IE1_metingen_raw.csv', delimiter=';', skiprows=1, unpack=True,\n",
    "                  dtype=float)  #Note: delimiter kan ook ; zijn\n",
    "\n",
    "h_12_af = np.array(data[0, :] - 3) * 1e-3\n",
    "\n",
    "F_af = 9.81 * m_af - np.array(data[1, :]) * 9.81\n",
    "\n",
    "h_12_aan = np.array(data[3, :] - 3) * 1e-3\n",
    "\n",
    "F_aan = np.array(data[4, :]) * 9.81 - m_aan * 9.81\n",
    "print(h_12_aan)\n",
    "print(F_aan)\n",
    "print(h_12_af)\n",
    "print(F_af)"
   ],
   "metadata": {
    "collapsed": false
   }
  },
  {
   "cell_type": "markdown",
   "source": [
    "**Waarnemingen:**  \n",
    "**Notities:**  "
   ],
   "metadata": {
    "collapsed": false
   }
  },
  {
   "cell_type": "markdown",
   "source": [
    "# Verwerking\n",
    "**Beschrijving van hoe de ruwe data zijn verwerkt tot wetenschappelijk bewijs:**\n"
   ],
   "metadata": {
    "collapsed": false
   }
  },
  {
   "cell_type": "code",
   "execution_count": null,
   "outputs": [],
   "source": [
    "#Berekening voor de hart-tot-hart afstand tussen de magneten\n",
    "z_aan = d_m + h_1_aan + h_2 + h_12_aan\n",
    "\n",
    "z_af = d_m + h_1_af + h_2 + h_12_af"
   ],
   "metadata": {
    "collapsed": false
   }
  },
  {
   "cell_type": "markdown",
   "source": [
    "### Data verwerking en analyse:\n",
    "Bekijk eerst de data zonder de meetonzekerheid te beschouwen. Gebruik de volgende cell om al je data the plotten. Vergeet de wetenschappelijke conventies betreffende grafieken niet!"
   ],
   "metadata": {
    "collapsed": false
   }
  },
  {
   "cell_type": "code",
   "execution_count": null,
   "outputs": [],
   "source": [
    "#Data verwerking en analyse:\n",
    "\n",
    "#(F,z)-plot \n",
    "plt.figure()\n",
    "#** [your code] **\n",
    "plt.plot(z_af, F_af, 'k.', label=\"Afstotende magneet\")\n",
    "plt.plot(z_aan, F_aan, 'r.', label=\"Aantrekkende magneet\")\n",
    "plt.xlabel(\"Heart to heart afstand (m) ->\")\n",
    "plt.ylabel(\"|Magneetkracht| (N) ->\")\n",
    "plt.legend()\n",
    "plt.show()"
   ],
   "metadata": {
    "collapsed": false
   }
  },
  {
   "cell_type": "markdown",
   "source": [
    "Op basis van je plot en een visuele inspectie, mag je de twee datasets combineren? Zo ja, combineer de twee datasets."
   ],
   "metadata": {
    "collapsed": false
   }
  },
  {
   "cell_type": "code",
   "execution_count": null,
   "outputs": [],
   "source": [
    "#combineren arrays \n",
    "z = np.concatenate((z_af, z_aan))\n",
    "F = np.concatenate((F_af, F_aan))"
   ],
   "metadata": {
    "collapsed": false
   }
  },
  {
   "cell_type": "markdown",
   "source": [
    "Maak nu een errorbarplot. Zie https://matplotlib.org/stable/api/_as_gen/matplotlib.pyplot.errorbar.html voor de mogelijkheden."
   ],
   "metadata": {
    "collapsed": false
   }
  },
  {
   "cell_type": "code",
   "execution_count": null,
   "outputs": [],
   "source": [
    "#Data verwerking en analyse:\n",
    "#(F,z)-plot met errorbars\n",
    "plt.figure()\n",
    "#** [your code] **\n",
    "plt.plot(z, F, 'k.', label=\"Magneetkracht\")\n",
    "plt.xlabel(\"Heart to heart afstand (m) ->\")\n",
    "plt.ylabel(\"|Magneetkracht| (N) ->\")\n",
    "plt.errorbar(z, F, u_F, u_z, 'b.')\n",
    "plt.legend()\n",
    "plt.show()"
   ],
   "metadata": {
    "collapsed": false
   }
  },
  {
   "cell_type": "markdown",
   "source": [
    "## Fitten van de data \n",
    "### Functie gebruikt om te fitten: $F = \\frac{a}{z^4}$\n",
    "Er zijn verschillende opties om onze data te analyseren. We bekijken een aantal van deze mogelijkheden. \n",
    "\n",
    "Op basis van de theoretische beschouwing verwachten we dat onze data beschreven kan worden met: $ F = \\frac{a}{z^4} $. We kunnen op basis van de kleinste kwadraten methode deze functie laten fitten aan onze data. Hoe dat in Python kan, staat hier uitgebreid beschreven: https://docs.scipy.org/doc/scipy/reference/generated/scipy.optimize.curve_fit.html\n",
    "\n",
    "Bedenk zelf of de meting(en) $F$ = 0 N meegenomen moet worden of niet."
   ],
   "metadata": {
    "collapsed": false
   }
  },
  {
   "cell_type": "code",
   "execution_count": null,
   "outputs": [],
   "source": [
    "#De te fitten functie\n",
    "def func(x, a):\n",
    "    return a / x ** 4\n",
    "\n",
    "\n",
    "#Het fitten op basis van kleinste kwadraten methode:\n",
    "popt, pcov = curve_fit(func, z, F)\n",
    "print(pcov)\n",
    "print('a = ', popt[0], '+/-', np.sqrt(pcov[0, 0]))\n",
    "print(\"Het percentage van onzekerheid is:\", np.sqrt(pcov[0, 0]) * 100 / popt[0], \"%\")"
   ],
   "metadata": {
    "collapsed": false
   }
  },
  {
   "cell_type": "markdown",
   "source": [
    "De waarde die we laten printen is de constante $a$ uit de vergelijking: $ F = \\frac{a}{z^4} $. \n",
    "\n",
    "Maak een nieuwe plot die zowel je data als de fitfunctie toont. Een deel van de benodigde code is hieronder al voor je geschreven."
   ],
   "metadata": {
    "collapsed": false
   }
  },
  {
   "cell_type": "markdown",
   "source": [
    "#### Residue analyse\n",
    "Het is nuttig om te onderzoeken of onze fit een 'goede' fit is. De hierboven gemaakte plot is niet de makkelijkste manier om dat te zien. Maar we kunnen gebruik maken van een residue analyse waarbij we \"de metingen - de fit\" tonen. De code hieronder geeft al een goed idee van hoe die analyse eruit moet zien. \n",
    "\n",
    "Analyseer het residue door de onderstaande code compleet te maken. "
   ],
   "metadata": {
    "collapsed": false
   }
  },
  {
   "cell_type": "code",
   "execution_count": null,
   "outputs": [],
   "source": [
    "# Residue analyse\n",
    "plt.figure()\n",
    "plt.plot(z, func(z, popt[0]) - F, 'k.', linewidth=1)\n",
    "plt.show()\n",
    "#Geen duidelijke systematische afwijking te ontdekken"
   ],
   "metadata": {
    "collapsed": false
   }
  },
  {
   "cell_type": "markdown",
   "source": [
    "### Fitten met een systematische fout\n",
    "We konden de hart-tot-hart afstand maar met een bepaalde nauwkeurigheid meten. Daarbij is er gebruik gemaakt van een referentiepunt. Dat kan er voor zorgen dat er sprake is van een systematische fout in de hart-tot-hart afstand. Dat kunnen we nader onderzoeken door te fitten aan de functie $F=\\frac{a}{(z+\\Delta z)^4}$, waarin $\\Delta z$ onze systematische fout is. \n",
    "\n",
    "Onderzoek of er sprake is van een systematische fout."
   ],
   "metadata": {
    "collapsed": false
   }
  },
  {
   "cell_type": "code",
   "execution_count": null,
   "outputs": [],
   "source": [
    "def funcwitherror(z, dz, a):\n",
    "    return a / ((z + dz) ** 4)\n",
    "\n",
    "\n",
    "val, cov = curve_fit(funcwitherror, z, F)\n",
    "print(\"The Delta z is\", val[0], \"\\u00B1\", np.sqrt(cov[0, 0]), \"m.\")\n",
    "print(\"The a is\", val[1], \"\\u00B1\", np.sqrt(cov[1, 1]), \"Nm^4\")\n",
    "\n",
    "plt.figure()\n",
    "\n",
    "min_value_z = min(z)\n",
    "max_value_z = max(z)\n",
    "\n",
    "x = np.linspace(min_value_z, max_value_z, 1000)\n",
    "y = funcwitherror(x, val[0], val[1])\n",
    "\n",
    "plt.plot(x, y, 'r--', linewidth=1)\n",
    "\n",
    "plt.xlabel(\"Heart to heart afstand (m) ->\")\n",
    "plt.ylabel(\"|Magneetkracht| (N) ->\")\n",
    "plt.errorbar(z, F, u_F, u_z, 'b.', label=\"Magneetkracht\")\n",
    "plt.legend()\n",
    "\n",
    "plt.show()\n"
   ],
   "metadata": {
    "collapsed": false
   }
  },
  {
   "cell_type": "markdown",
   "source": [
    "### Linear fit\n",
    "In klas vier heb je geleerd hoe je een coordinaattransformatie uit moet voeren (waarschijnlijk ben je dat allang weer vergeten). Bij een coordinaattransformatie willen we de data beschrijven met een rechte lijn, in dit geval: $ F = a \\cdot u $. Om dat te doen moeten we $ z^{-4} $ substitueren met $ u $. \n",
    "\n",
    "Maak een nieuwe variabel $ u $ met de waarden $ z^{-4} $ en plot $F$ als functie van $u$. Lijkt de grafiek linear?"
   ],
   "metadata": {
    "collapsed": false
   }
  },
  {
   "cell_type": "code",
   "execution_count": null,
   "outputs": [],
   "source": [
    "#(F,u)-plot zonder errorbars \n",
    "plt.figure()\n",
    "u = z ** -4\n",
    "#** [your code] **\n",
    "min_value_z = min(u)\n",
    "max_value_z = max(u)\n",
    "\n",
    "plt.xlabel(\"u (m^-4) ->\")\n",
    "plt.ylabel(\"|Magneetkracht| (N) ->\")\n",
    "plt.plot(u, F, 'k.', linewidth=1, label=\"magneetkracht a/u\")\n",
    "plt.legend()\n",
    "\n",
    "plt.show()"
   ],
   "metadata": {
    "collapsed": false
   }
  },
  {
   "cell_type": "markdown",
   "source": [
    "In de bovenstaande plot missen onze errorbars nog. Als $ u = z^{-4} $, dan $ u_u = 4 \\cdot u_z \\cdot z^{-5} $. Toon dit aan."
   ],
   "metadata": {
    "collapsed": false
   }
  },
  {
   "cell_type": "markdown",
   "source": [
    "Bereken de onzekerheden voor $ u $ en maak de errorbarplot ($ F $, $ u $)."
   ],
   "metadata": {
    "collapsed": false
   }
  },
  {
   "cell_type": "code",
   "execution_count": null,
   "outputs": [],
   "source": [
    "#(F,u)-plot met errorbars \n",
    "u_u = 4 * u_z * z ** -5\n",
    "\n",
    "plt.figure()\n",
    "\n",
    "min_value_z = min(u)\n",
    "max_value_z = max(u)\n",
    "\n",
    "plt.xlabel(\"u (m^-4) ->\")\n",
    "plt.ylabel(\"|Magneetkracht| (N) ->\")\n",
    "plt.errorbar(u, F, u_F, u_u, 'b.', label=\"Magneetkracht a*u\")\n",
    "plt.legend()\n",
    "\n",
    "plt.show()"
   ],
   "metadata": {
    "collapsed": false
   }
  },
  {
   "cell_type": "markdown",
   "source": [
    "Nu gaan we een lineaire functie fitten. Voer de volgende stappen uit :\n",
    "* defineer de functie voor deze fit \n",
    "* maak gebruik van curve fit om de data te fitten\n",
    "* plot je metingen en bijbehorende fit"
   ],
   "metadata": {
    "collapsed": false
   }
  },
  {
   "cell_type": "code",
   "execution_count": null,
   "outputs": [],
   "source": [
    "#(F,u)-plot met errorbars en de fitfunctie\n",
    "def func_u(u, a):\n",
    "    return a * u\n",
    "\n",
    "\n",
    "val_u, cov_u = curve_fit(func_u, u, F)\n",
    "\n",
    "print(\"De waarde van a is\", val_u[0], \"+/-\", np.sqrt(cov_u[0, 0]), \"Nm^4\")\n",
    "\n",
    "plt.figure()\n",
    "\n",
    "min_value_u = min(u)\n",
    "max_value_u = max(u)\n",
    "\n",
    "x = np.linspace(min_value_u, max_value_u, 1000)\n",
    "y = func_u(x, val_u[0])\n",
    "\n",
    "plt.plot(x, y, 'r--', linewidth=1)\n",
    "\n",
    "plt.xlabel(\"u (m^-4)\")\n",
    "plt.ylabel(\"|Magneetkracht| (N)\")\n",
    "plt.errorbar(u, F, u_F, u_u, 'b.', label=\"Magneetkracht a*u\")\n",
    "plt.legend()\n",
    "\n",
    "plt.show()"
   ],
   "metadata": {
    "collapsed": false
   }
  },
  {
   "cell_type": "markdown",
   "source": [
    "Maak grafieken van je data die relevant zijn binnen de gegeven context."
   ],
   "metadata": {
    "collapsed": false
   }
  },
  {
   "cell_type": "code",
   "execution_count": null,
   "outputs": [],
   "source": [
    "#aanvullende grafieken \n",
    "plt.figure()\n",
    "\n",
    "min_value_z = min(z)\n",
    "max_value_z = max(z)\n",
    "\n",
    "x = np.linspace(min_value_z, max_value_z, 1000)\n",
    "y = funcwitherror(x, val[0], val[1])\n",
    "\n",
    "plt.plot(x, y, 'r--', linewidth=1)\n",
    "\n",
    "plt.xlabel(\"Heart to heart afstand (m) ->\")\n",
    "plt.ylabel(\"|Magneetkracht| (N) ->\")\n",
    "plt.errorbar(z, F, u_F, u_z, 'b.', label=\"Magneetkracht\")\n",
    "plt.legend()\n",
    "\n",
    "plt.show()\n"
   ],
   "metadata": {
    "collapsed": false
   }
  },
  {
   "cell_type": "markdown",
   "source": [
    "Er is minstens nog een aanvullende manier om het verwachtte exponentiele verband ($ y = a\\cdot x^n $) te onderzoeken. We kunnen gebruik maken van een log-log plot om te zien of de richtingscoëfficient daarvan -4, en constant is. \n",
    "\n",
    "Onderzoek of dit geldt."
   ],
   "metadata": {
    "collapsed": false
   }
  },
  {
   "cell_type": "code",
   "execution_count": null,
   "outputs": [],
   "source": [
    "#extra analysis\n",
    "plt.figure()  #Nieuw plot begin\n",
    "plt.xlabel(\"Heart to heart afstand (m) ->\")  #Assen labelen\n",
    "plt.ylabel(\"|Magneetkracht| (N) ->\")\n",
    "\n",
    "plt.loglog(z, F, 'k.')  #Log-Log plot\n",
    "\n",
    "plt.show()  #Plot printen"
   ],
   "metadata": {
    "collapsed": false
   }
  },
  {
   "cell_type": "markdown",
   "source": [
    "Misschien ben je nog steeds niet tevreden over de resultaten... Je kunt dan nog altijd onderzoeken wat de waarden van $a$ en $n$ zijn als je fit aan de functie $F = a \\cdot z^{n}$..."
   ],
   "metadata": {
    "collapsed": false
   }
  },
  {
   "cell_type": "code",
   "execution_count": null,
   "outputs": [],
   "source": [
    "def func_azn(z, a, n):  #Functie F=a*z^n definiëren\n",
    "    return a * (z ** n)\n",
    "\n",
    "\n",
    "val_azn, cov_azn = curve_fit(func_azn, z, F,\n",
    "                             p0=[val[0], -4])  #Functie fitten met initial guesses uit de eerdere codeblocks\n",
    "\n",
    "print(\"De waarde van a is\", val_azn[0], \"+/-\", np.sqrt(cov_azn[0, 0]), \"Nm^4\")\n",
    "print(\"De waarde van n is\", val_azn[1], \"+/-\", np.sqrt(cov_azn[1, 1]))  #Waardes en onzekerheden printen\n",
    "\n",
    "plt.figure()  #begin nieuw plot\n",
    "\n",
    "min_value_z = min(z)  #grenswaarden horizontale as\n",
    "max_value_z = max(z)\n",
    "\n",
    "x = np.linspace(min_value_z, max_value_z, 1000)\n",
    "y = func_azn(x, val_azn[0], val_azn[1])\n",
    "\n",
    "plt.plot(x, y, 'r--', linewidth=1)  #plotting curve-fitted function\n",
    "\n",
    "plt.xlabel(\"Heart to heart afstand (m) ->\")  #Axes labeling\n",
    "plt.ylabel(\"|Magneetkracht| (N) ->\")\n",
    "plt.errorbar(z, F, u_F, u_z, 'b.', label=\"Magneetkracht\")  #Plotting data over the fitted function for comparison\n",
    "plt.legend()\n",
    "\n",
    "plt.show()"
   ],
   "metadata": {
    "collapsed": false
   }
  },
  {
   "cell_type": "markdown",
   "source": [
    "## Berekening van het remanente veld\n",
    "Als je data goed beschreven kan worden met de formule $F=\\frac{\\alpha}{z^4}$ (eventueel met systematische fout), dan weten we nog niet of de theoretische benadering gevalideerd is. Daartoe moeten we het remanente veld uitrekenen en vergelijken met de datasheet van de producent van de magneten. Deze analyse omvat de volgende stappen:\n",
    "* bereken de waarden van $\\alpha$ en de bijbehorende meetonzekerheid \n",
    "* gebruik deze waarde om het remanente veld uit te rekenen $B_r$ \n",
    "* bereken de bijbehorende onzekerheid\n",
    "* voor een strijdigsheidsanalyse uit om te onderzoeken of de waarden voldoende overeenkomen.\n",
    "\n",
    "Voer de analyse uit."
   ],
   "metadata": {
    "collapsed": false
   }
  },
  {
   "cell_type": "code",
   "execution_count": null,
   "outputs": [],
   "source": [
    "a = val[1]\n",
    "u_a = np.sqrt(cov[1, 1])\n",
    "h_magneet = 0.005  #m\n",
    "u_h_magneet = 0.0001  #m\n",
    "d_magneet = 0.01  #m\n",
    "u_d_magneet = 0.0001  #m\n",
    "mu_0 = 1.25663706212e-6\n",
    "\n",
    "\n",
    "def br_func(a, d, h):\n",
    "    return np.sqrt(mu_0 * np.pi * 2 * a) / (\n",
    "            (np.pi * ((0.5 * d) ** 2) * h) * np.sqrt(3))  # Br = sqrt(mu*pi*2*alpha) / (V * sqrt(3))\n",
    "\n",
    "\n",
    "u_Br = np.sqrt(\n",
    "    (((br_func(a + u_a, d_magneet, h_magneet) - br_func(a - u_a, d_magneet, h_magneet)) / 2) ** 2) +\n",
    "    (((br_func(a, d_magneet + u_d_magneet, h_magneet) - br_func(a, d_magneet - u_d_magneet, h_magneet)) / 2) ** 2) +\n",
    "    (((br_func(a, d_magneet, h_magneet + u_h_magneet) - br_func(a, d_magneet,\n",
    "                                                                h_magneet - u_h_magneet)) / 2) ** 2))  #Functional method\n",
    "print(\"Het remanente veld is: {:.5e} \\u00B1 {:.5e} T\".format(br_func(a, d_magneet, h_magneet), u_Br))\n",
    "\n",
    "#Strijdigheidsanalyse: verschil tussen officiële waarde en gemeten waarde is > 2x onzekerheid -> strijdig\n",
    "officieleWaardeMaximum = 1.32\n",
    "officielewaardeMinimum = 1.29\n",
    "if np.abs(officielewaardeMinimum - br_func(a, d_magneet, h_magneet)) - 2 * u_Br >= 0:\n",
    "    print(\"Minimumwaarde en gemeten waarde zijn strijdig\")\n",
    "else:\n",
    "    print(\"Minimumwaarde en gemeten waarde zijn niet strijdig\")\n",
    "    \n",
    "if(np.abs(officieleWaardeMaximum - br_func(a, d_magneet, h_magneet)) - 2 * u_Br >= 0):\n",
    "    print(\"Maximumwaarde en gemeten waarde zijn strijdig\")\n",
    "else:\n",
    "    print(\"Maximumwaarde en gemeten waarde zijn niet strijdig\")"
   ],
   "metadata": {
    "collapsed": false
   }
  },
  {
   "cell_type": "code",
   "execution_count": null,
   "outputs": [],
   "source": [
    "De verwachting is dat het model niet op gaat voor de waardes van kortere afstanden, daarom wordt er nog een berekening uitgevoerd voor het remanente veld en de waarde van de n macht zonder de 5 waardes met de kortste hart tot hart afstand om te kijken of het model dan wel klopt."
   ],
   "metadata": {
    "collapsed": false
   }
  },
  {
   "cell_type": "code",
   "execution_count": 215,
   "outputs": [
    {
     "name": "stdout",
     "output_type": "stream",
     "text": [
      "Het remanente veld is: 1.35356e+00 ± 6.59972e-02 T\n",
      "Minimumwaarde en gemeten waarde zijn niet strijdig\n",
      "Maximumwaarde en gemeten waarde zijn niet strijdig\n",
      "De waarde van a is 2.1799388875939773e-07 +/- 6.114955405122453e-08 Nm^4\n",
      "De waarde van n is -3.758479956668219 +/- 0.06982512419363666\n"
     ]
    }
   ],
   "source": [
    "def funcwitherror(z, dz, a):\n",
    "    return a / ((z + dz) ** 4)\n",
    "\n",
    "z = np.concatenate((z_af[:], z_aan[:6]))\n",
    "F = np.concatenate((F_af[:], F_aan[:6]))\n",
    "\n",
    "val, cov = curve_fit(funcwitherror, z, F)\n",
    "\n",
    "\n",
    "a = val[1]\n",
    "u_a = np.sqrt(cov[1, 1])\n",
    "h_magneet = 0.005  #m\n",
    "u_h_magneet = 0.0001  #m\n",
    "d_magneet = 0.01  #m\n",
    "u_d_magneet = 0.0001  #m\n",
    "mu_0 = 1.25663706212e-6\n",
    "\n",
    "\n",
    "def br_func(a, d, h):\n",
    "    return np.sqrt(mu_0 * np.pi * 2 * a) / (\n",
    "            (np.pi * ((0.5 * d) ** 2) * h) * np.sqrt(3))  # Br = sqrt(mu*pi*2*alpha) / (V * sqrt(3))\n",
    "\n",
    "\n",
    "u_Br = np.sqrt(\n",
    "    (((br_func(a + u_a, d_magneet, h_magneet) - br_func(a - u_a, d_magneet, h_magneet)) / 2) ** 2) +\n",
    "    (((br_func(a, d_magneet + u_d_magneet, h_magneet) - br_func(a, d_magneet - u_d_magneet, h_magneet)) / 2) ** 2) +\n",
    "    (((br_func(a, d_magneet, h_magneet + u_h_magneet) - br_func(a, d_magneet,\n",
    "                                                                h_magneet - u_h_magneet)) / 2) ** 2))  #Functional method\n",
    "print(\"Het remanente veld is: {:.5e} \\u00B1 {:.5e} T\".format(br_func(a, d_magneet, h_magneet), u_Br))\n",
    "\n",
    "#Strijdigheidsanalyse: verschil tussen officiële waarde en gemeten waarde is > 2x onzekerheid -> strijdig\n",
    "officieleWaardeMaximum = 1.32\n",
    "officielewaardeMinimum = 1.29\n",
    "if np.abs(officielewaardeMinimum - br_func(a, d_magneet, h_magneet)) - 2 * u_Br >= 0:\n",
    "    print(\"Minimumwaarde en gemeten waarde zijn strijdig\")\n",
    "else:\n",
    "    print(\"Minimumwaarde en gemeten waarde zijn niet strijdig\")\n",
    "    \n",
    "if(np.abs(officieleWaardeMaximum - br_func(a, d_magneet, h_magneet)) - 2 * u_Br >= 0):\n",
    "    print(\"Maximumwaarde en gemeten waarde zijn strijdig\")\n",
    "else:\n",
    "    print(\"Maximumwaarde en gemeten waarde zijn niet strijdig\")\n",
    "\n",
    "\n",
    "def func_azn(z, a, n):  #Functie F=a*z^n definiëren\n",
    "    return a * (z ** n)\n",
    "\n",
    "\n",
    "val_azn, cov_azn = curve_fit(func_azn, z, F,\n",
    "                             p0=[val[0], -4])\n",
    "print(\"De waarde van a is\", val_azn[0], \"+/-\", np.sqrt(cov_azn[0, 0]), \"Nm^4\")\n",
    "print(\"De waarde van n is\", val_azn[1], \"+/-\", np.sqrt(cov_azn[1, 1]))  #Waardes en onzekerheden printen"
   ],
   "metadata": {
    "collapsed": false,
    "ExecuteTime": {
     "end_time": "2023-10-27T14:24:13.041770Z",
     "start_time": "2023-10-27T14:24:13.008929500Z"
    }
   }
  },
  {
   "cell_type": "markdown",
   "metadata": {},
   "source": [
    "**Beschrijving van het patroon in de verwerkte data:**  \n"
   ]
  },
  {
   "cell_type": "code",
   "execution_count": 174,
   "metadata": {
    "tags": [],
    "ExecuteTime": {
     "end_time": "2023-10-20T14:48:04.594436400Z",
     "start_time": "2023-10-20T14:48:04.507759900Z"
    }
   },
   "outputs": [],
   "source": [
    "#Berekeningen o.a. rond de meetonzekerheden, incl de eindantwoorden.\n"
   ]
  },
  {
   "cell_type": "markdown",
   "metadata": {},
   "source": [
    "# Discussie\n",
    "Voeg hier de discussie toe."
   ]
  },
  {
   "cell_type": "markdown",
   "metadata": {},
   "source": [
    "# Conclusie\n",
    "Voeg hier de conclusie toe."
   ]
  },
  {
   "cell_type": "markdown",
   "metadata": {},
   "source": [
    "# Andere notities, opmerkingen, verklaringen, gedachten etc\n"
   ]
  },
  {
   "cell_type": "code",
   "execution_count": 175,
   "metadata": {
    "ExecuteTime": {
     "end_time": "2023-10-20T14:48:04.602944400Z",
     "start_time": "2023-10-20T14:48:04.524486300Z"
    }
   },
   "outputs": [],
   "source": [
    "# Eventuele extra notities"
   ]
  },
  {
   "cell_type": "markdown",
   "metadata": {},
   "source": []
  }
 ],
 "metadata": {
  "kernelspec": {
   "display_name": "Python 3 [3.10]",
   "language": "python",
   "name": "python3"
  },
  "language_info": {
   "codemirror_mode": {
    "name": "ipython",
    "version": 3
   },
   "file_extension": ".py",
   "mimetype": "text/x-python",
   "name": "python",
   "nbconvert_exporter": "python",
   "pygments_lexer": "ipython3",
   "version": "3.10.2"
  }
 },
 "nbformat": 4,
 "nbformat_minor": 4
}
